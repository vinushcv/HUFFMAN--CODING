{
  "nbformat": 4,
  "nbformat_minor": 0,
  "metadata": {
    "colab": {
      "provenance": []
    },
    "kernelspec": {
      "name": "python3",
      "display_name": "Python 3"
    },
    "language_info": {
      "name": "python"
    }
  },
  "cells": [
    {
      "cell_type": "code",
      "execution_count": null,
      "metadata": {
        "colab": {
          "base_uri": "https://localhost:8080/"
        },
        "id": "zNtyGKWdAXMz",
        "outputId": "5ba6c7e0-f5a3-44fa-8a67-810d799aa810"
      },
      "outputs": [
        {
          "output_type": "stream",
          "name": "stdout",
          "text": [
            " Char | Huffman code \n",
            "----------------------\n",
            "'V' |         101\n",
            "'I' |         100\n",
            "'N' |         111\n",
            "'U' |         110\n",
            "'S' |          01\n",
            "'H' |          00\n"
          ]
        }
      ],
      "source": [
        "# Get the input String\n",
        "string =\"VINUSH\"\n",
        "\n",
        "# Create tree nodes\n",
        "class NodeTree(object):\n",
        "    def __init__(self, left=None, right=None):\n",
        "        self.left = left\n",
        "        self.right=right\n",
        "    def children(self):\n",
        "        return (self.left,self.right)\n",
        "    def nodes (self):\n",
        "        return (self.left,self.right)\n",
        "    def __str__(self):\n",
        "        return '%s %s' %(self.left,self.right)\n",
        "\n",
        "# Main function to implement huffman coding\n",
        "def huffman_code_tree (node, left=True, binString=''):\n",
        "    if type(node) is str:\n",
        "        return {node: binString}\n",
        "    (l, r) = node.children()\n",
        "    d = dict()\n",
        "    d.update(huffman_code_tree (l, True, binString + '0'))\n",
        "    d.update(huffman_code_tree (r, False, binString + '1'))\n",
        "    return d\n",
        "\n",
        "# Calculate frequency of occurrence\n",
        "freq = {}\n",
        "for c in string:\n",
        "    if c in freq:\n",
        "        freq[c] += 1\n",
        "    else:\n",
        "        freq[c] = 1\n",
        "freq = sorted(freq.items(), key=lambda x: x[1], reverse=True)\n",
        "nodes=freq\n",
        "while len(nodes)>1:\n",
        "    (key1,c1)=nodes[-1]\n",
        "    (key2,c2)=nodes[-2]\n",
        "    nodes = nodes[:-2]\n",
        "    node = NodeTree (key1, key2)\n",
        "    nodes.append((node,c1 + c2))\n",
        "    nodes = sorted (nodes, key=lambda x: x[1], reverse=True)\n",
        "\n",
        "# Print the characters and its huffmancode\n",
        "huffmanCode=huffman_code_tree(nodes[0][0])\n",
        "print(' Char | Huffman code ')\n",
        "print('----------------------')\n",
        "for (char, frequency) in freq:\n",
        "    print('%-4r|%12s'%(char,huffmanCode[char]))\n"
      ]
    },
    {
      "cell_type": "code",
      "source": [],
      "metadata": {
        "id": "4PvBxQLGAcam"
      },
      "execution_count": null,
      "outputs": []
    }
  ]
}